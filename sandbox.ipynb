{
  "cells": [
    {
      "cell_type": "code",
      "execution_count": null,
      "metadata": {
        "id": "AEScIOsNBdZG"
      },
      "outputs": [],
      "source": [
        "import os\n",
        "if any(\"COLAB\" in e for e in os.environ):\n",
        "    !pip install pykrx"
      ],
      "id": "AEScIOsNBdZG"
    },
    {
      "cell_type": "markdown",
      "source": [
        "# INITIALIZE"
      ],
      "metadata": {
        "id": "YN6d6cpREe0L"
      },
      "id": "YN6d6cpREe0L"
    },
    {
      "cell_type": "code",
      "source": [
        "from datetime import datetime, timedelta\n",
        "from pytz import timezone\n",
        "from pykrx import stock\n",
        "import pandas as pd\n",
        "\n",
        "\n",
        "get_td = stock.get_nearest_business_day_in_a_week\n",
        "get_mk = stock.get_market_cap_by_ticker\n",
        "get_fr = stock.get_exhaustion_rates_of_foreign_investment_by_ticker\n",
        "\n",
        "\n",
        "TD = get_td()\n",
        "if 900 <= int(datetime.now(timezone('Asia/Seoul')).strftime(\"%H%M\")) <= 1530:\n",
        "    TD = get_td((datetime.today() - timedelta(1)).strftime(\"%Y%m%d\"))\n",
        "\n",
        "TD_SET = {\n",
        "    f'D-{n}': get_td((datetime.strptime(TD, \"%Y%m%d\") - timedelta(n)).strftime(\"%Y%m%d\"))\n",
        "    for n in [1, 7, 14, 30, 61, 92, 183, 365]\n",
        "}"
      ],
      "metadata": {
        "id": "QddlqvtmDQfp"
      },
      "id": "QddlqvtmDQfp",
      "execution_count": 1,
      "outputs": []
    },
    {
      "cell_type": "code",
      "source": [
        "print(f\"TRADING DATE: {TD}\")\n",
        "for k, v in TD_SET.items():\n",
        "    print(f\"D-{k.split('-')[-1].zfill(3)}: {v}\")"
      ],
      "metadata": {
        "id": "OfHTrBA2HWUz"
      },
      "id": "OfHTrBA2HWUz",
      "execution_count": null,
      "outputs": []
    },
    {
      "cell_type": "markdown",
      "source": [
        "# GENERALS"
      ],
      "metadata": {
        "id": "ePbLguWkEjaN"
      },
      "id": "ePbLguWkEjaN"
    },
    {
      "cell_type": "code",
      "source": [
        "mk = pd.concat([get_mk(TD, market=\"KOSPI\"), get_mk(TD, market=\"KOSDAQ\")])\n",
        "fr = pd.concat([get_fr(TD, market=\"KOSPI\"), get_fr(TD, market=\"KOSDAQ\")])\n",
        "fr = fr.drop(columns=[c for c in fr if c in mk])\n",
        "GENERALS = pd.concat([mk, fr], axis=1).astype('float64')"
      ],
      "metadata": {
        "id": "RWk1BWGnEirl"
      },
      "id": "RWk1BWGnEirl",
      "execution_count": 2,
      "outputs": []
    },
    {
      "cell_type": "code",
      "source": [
        "# GENERALS\n",
        "# GENERALS.columns"
      ],
      "metadata": {
        "id": "hXyj2KSUHnhH"
      },
      "id": "hXyj2KSUHnhH",
      "execution_count": null,
      "outputs": []
    },
    {
      "cell_type": "markdown",
      "source": [
        "# FOREIGN RATE"
      ],
      "metadata": {
        "id": "CJubqqFrMrxR"
      },
      "id": "CJubqqFrMrxR"
    },
    {
      "cell_type": "code",
      "source": [
        "objs = {key:get_fr(date, market=\"ALL\")['지분율'] for key, date in TD_SET.items()}\n",
        "frs = pd.concat(objs, axis=1)\n",
        "frs = pd.concat([GENERALS['지분율'], frs], axis=1).astype('float64')\n",
        "frs = frs[(~frs['지분율'].isna()) & (frs['지분율'] != 0)]\n",
        "frs = frs[frs.columns.tolist()[::-1]]\n",
        "frs = frs.rename(columns={'지분율': 'D-0'})\n",
        "# frs"
      ],
      "metadata": {
        "id": "Pe1XWGXfMugA"
      },
      "id": "Pe1XWGXfMugA",
      "execution_count": 19,
      "outputs": []
    },
    {
      "cell_type": "markdown",
      "source": [
        "## Delta"
      ],
      "metadata": {
        "id": "nY_OMp9KqZW3"
      },
      "id": "nY_OMp9KqZW3"
    },
    {
      "cell_type": "code",
      "source": [
        "_delta = {}\n",
        "for col in frs:\n",
        "    if col == 'D-0':\n",
        "        break\n",
        "    _delta[f'{col}[delta]'] = frs['D-0'] - frs[col]\n",
        "delta = pd.concat(_delta, axis=1)\n",
        "# delta"
      ],
      "metadata": {
        "id": "e6B6L1BxNL0k"
      },
      "id": "e6B6L1BxNL0k",
      "execution_count": 22,
      "outputs": []
    },
    {
      "cell_type": "markdown",
      "source": [
        "## Regression"
      ],
      "metadata": {
        "id": "5N9LEViiaFH6"
      },
      "id": "5N9LEViiaFH6"
    },
    {
      "cell_type": "code",
      "source": [
        "from scipy.stats import linregress\n",
        "\n",
        "def calculate_trend_strength(series):\n",
        "    if series.isnull().all() or (series == 0).all():\n",
        "        return 0.0\n",
        "\n",
        "    x = range(len(series))\n",
        "    y = series.values\n",
        "\n",
        "    slope, intercept, r_value, p_value, std_err = linregress(x, y)\n",
        "    return slope\n",
        "\n",
        "columns = frs.columns.tolist()\n",
        "_slope = {}\n",
        "for n, c in enumerate(columns):\n",
        "    if c == \"D-0\":\n",
        "        break\n",
        "    _slope[f'{c}[slope]'] = frs[columns[n:]].apply(calculate_trend_strength, axis=1)\n",
        "slope = pd.concat(_slope, axis=1)"
      ],
      "metadata": {
        "id": "2jHjXyF3aKCY"
      },
      "id": "2jHjXyF3aKCY",
      "execution_count": 23,
      "outputs": []
    },
    {
      "cell_type": "code",
      "source": [
        "df = frs.join(delta, how='left').join(slope, how='left')\n",
        "df.to_csv('foreign_rate.csv')"
      ],
      "metadata": {
        "collapsed": true,
        "id": "7a_Glj4Xcu4k"
      },
      "id": "7a_Glj4Xcu4k",
      "execution_count": 24,
      "outputs": []
    },
    {
      "cell_type": "code",
      "metadata": {
        "id": "490facc0"
      },
      "source": [
        "from pykrx import stock\n",
        "\n",
        "# Get ticker list for KOSPI and KOSDAQ\n",
        "kospi_tickers = stock.get_market_ticker_list(TD, market=\"KOSPI\")\n",
        "kosdaq_tickers = stock.get_market_ticker_list(TD, market=\"KOSDAQ\")\n",
        "\n",
        "# Combine ticker lists\n",
        "all_tickers = kospi_tickers + kosdaq_tickers\n",
        "\n",
        "# Get stock names for all tickers\n",
        "stock_names = [stock.get_market_ticker_name(ticker) for ticker in all_tickers]\n",
        "\n",
        "# Display the list of stock names\n",
        "print(\"전체 종목명 리스트:\")\n",
        "for name in stock_names:\n",
        "    print(name)"
      ],
      "id": "490facc0",
      "execution_count": null,
      "outputs": []
    }
  ],
  "metadata": {
    "kernelspec": {
      "display_name": "Python 3",
      "name": "python3"
    },
    "language_info": {
      "name": "python",
      "version": "3.8"
    },
    "colab": {
      "provenance": []
    }
  },
  "nbformat": 4,
  "nbformat_minor": 5
}